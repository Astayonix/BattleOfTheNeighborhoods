{
    "nbformat_minor": 1, 
    "cells": [
        {
            "source": "<h1 align='center'>I Don't Know - Where Do You Want to Eat?</h1>", 
            "cell_type": "markdown", 
            "metadata": {}
        }, 
        {
            "source": "<h1 align='center'>\ud83c\udf7d\ufe0f\ud83e\udd37\u200d\u2640\ufe0f\ud83e\udd37\u200d\u2640\ufe0f\ud83e\udd37\u200d\u2640\ufe0f\ud83e\udd62</h1>", 
            "cell_type": "markdown", 
            "metadata": {}
        }, 
        {
            "source": "## Section 1) Introduction \ud83d\udcd7", 
            "cell_type": "markdown", 
            "metadata": {}
        }, 
        {
            "source": "### It's a tough day at the office, and lunch time is here.  Have you ever had the following exchange with your co-workers and/ or friends?\n\n#### \ud83e\udd14: Where do you want to eat?\n#### \ud83e\udd28: I don't know.  Where do you want to eat?\n#### \ud83d\ude44: I don't know.  Where do you want to eat?\n\n### And on and on and on \ud83e\udd2f.  Before you know it, lunch time is over, and it's time to get back to the gridstone.  You've spent most (if not all) of your lunch time simply trying to figure out where to eat.", 
            "cell_type": "markdown", 
            "metadata": {}
        }, 
        {
            "source": "#### We live in a world where we are faced with unprecidented choice in our options for entertainment, food, and habitation.  Being spolied for choice is a double-edged sword though.  In the face of so many options, people are often not happy with the choices that they make experiencing either buyer's remorse (fear of missing out aka FOMO) or being completely overwhelmed leading to analysis paralysis (AP).  My project (I Don't Know - Where Do You Want to Eat) aims to help lunch buddies solve the paradox of choice by implmeneting a hybrid recommender system (both content and collaborative filtering) to help find restaurants that meet the group's dining preferences and offering them 3 options that are close to their central location (the lunch buddies don't have to be at the same location).  The locations of the participants will be used to create a centroid (central location) between them that will be used in conjunction with queries the FourSquare API to return candidate restaurants fitting the top criteria of the diners.  I will then use the matrix factorization techique to create a sparse matrix that I will then feed to a LightFM model to fill in any blanks in the utilization matrix so that the top 3 recommendations can be returned and visualized.", 
            "cell_type": "markdown", 
            "metadata": {}
        }, 
        {
            "source": "## Section 2) Data \ud83d\udcbe", 
            "cell_type": "markdown", 
            "metadata": {}
        }, 
        {
            "source": "### I will be using the following data sources to solve this problem:\n#### - FourSquare API: To make calls to retrieve venues using the <a href='https://developer.foursquare.com/docs/api/venues/search'>`venues\\search`</a> and <a href='https://developer.foursquare.com/docs/api/venues/details'>`venues\\VENUEID`</a> endpoints.  This will be the basis for the item matrix that will help generate the utilization matrix as well as providing crucial information for the visualization of the final venue selections and their attributes (ratings, addresses, categories, etc.).  I will also make a call to the <a href='https://developer.foursquare.com/docs/api/venues/categories'>`venues/categories`</a>  endpoint to query all food venue category ids.  The users will also use this in order to construct their corresponding profiles.\n#### - My dear friends and colleagues: My friends and colleauges have generously agreed to create user profiles along with their respective lunch time locations and dining preferences.  I will use this information along with the FourSquare Categories to create the user matrix.", 
            "cell_type": "markdown", 
            "metadata": {}
        }, 
        {
            "execution_count": 22, 
            "cell_type": "code", 
            "metadata": {}, 
            "outputs": [
                {
                    "output_type": "stream", 
                    "name": "stdout", 
                    "text": "Solving environment: done\n\n# All requested packages already installed.\n\nRequirement already satisfied: lightfm in /opt/conda/envs/Python36/lib/python3.6/site-packages (1.15)\nRequirement already satisfied: numpy in /opt/conda/envs/Python36/lib/python3.6/site-packages (from lightfm) (1.15.4)\nRequirement already satisfied: scipy>=0.17.0 in /opt/conda/envs/Python36/lib/python3.6/site-packages (from lightfm) (1.2.0)\nRequirement already satisfied: requests in /opt/conda/envs/Python36/lib/python3.6/site-packages (from lightfm) (2.21.0)\nRequirement already satisfied: chardet<3.1.0,>=3.0.2 in /opt/conda/envs/Python36/lib/python3.6/site-packages (from requests->lightfm) (3.0.4)\nRequirement already satisfied: urllib3<1.25,>=1.21.1 in /opt/conda/envs/Python36/lib/python3.6/site-packages (from requests->lightfm) (1.24.1)\nRequirement already satisfied: idna<2.9,>=2.5 in /opt/conda/envs/Python36/lib/python3.6/site-packages (from requests->lightfm) (2.8)\nRequirement already satisfied: certifi>=2017.4.17 in /opt/conda/envs/Python36/lib/python3.6/site-packages (from requests->lightfm) (2019.6.16)\nRequirement already satisfied: geocoder in /opt/conda/envs/Python36/lib/python3.6/site-packages (1.38.1)\nRequirement already satisfied: six in /opt/conda/envs/Python36/lib/python3.6/site-packages (from geocoder) (1.12.0)\nRequirement already satisfied: ratelim in /opt/conda/envs/Python36/lib/python3.6/site-packages (from geocoder) (0.1.6)\nRequirement already satisfied: click in /opt/conda/envs/Python36/lib/python3.6/site-packages (from geocoder) (7.0)\nRequirement already satisfied: requests in /opt/conda/envs/Python36/lib/python3.6/site-packages (from geocoder) (2.21.0)\nRequirement already satisfied: future in /opt/conda/envs/Python36/lib/python3.6/site-packages (from geocoder) (0.17.1)\nRequirement already satisfied: decorator in /opt/conda/envs/Python36/lib/python3.6/site-packages (from ratelim->geocoder) (4.3.2)\nRequirement already satisfied: idna<2.9,>=2.5 in /opt/conda/envs/Python36/lib/python3.6/site-packages (from requests->geocoder) (2.8)\nRequirement already satisfied: urllib3<1.25,>=1.21.1 in /opt/conda/envs/Python36/lib/python3.6/site-packages (from requests->geocoder) (1.24.1)\nRequirement already satisfied: certifi>=2017.4.17 in /opt/conda/envs/Python36/lib/python3.6/site-packages (from requests->geocoder) (2019.6.16)\nRequirement already satisfied: chardet<3.1.0,>=3.0.2 in /opt/conda/envs/Python36/lib/python3.6/site-packages (from requests->geocoder) (3.0.4)\nCollecting wget\n  Downloading https://files.pythonhosted.org/packages/47/6a/62e288da7bcda82b935ff0c6cfe542970f04e29c756b0e147251b2fb251f/wget-3.2.zip\nBuilding wheels for collected packages: wget\n  Building wheel for wget (setup.py) ... \u001b[?25ldone\n\u001b[?25h  Stored in directory: /home/dsxuser/.cache/pip/wheels/40/15/30/7d8f7cea2902b4db79e3fea550d7d7b85ecb27ef992b618f3f\nSuccessfully built wget\nInstalling collected packages: wget\nSuccessfully installed wget-3.2\n"
                }
            ], 
            "source": "# First things first\n! conda install -c conda-forge folium --yes # You may need to install this if you haven't already.\n! pip install lightfm\n! pip install geocoder\n! pip install --upgrade wget"
        }, 
        {
            "execution_count": 31, 
            "cell_type": "code", 
            "metadata": {}, 
            "outputs": [], 
            "source": "# Let's get into it!\n\n# standard weapons of choice\nimport pandas as pd\nfrom pandas.io.json import json_normalize\nimport numpy as np\nimport scipy\nfrom scipy.sparse import csr_matrix\nfrom sklearn.model_selection import RandomizedSearchCV\nfrom sklearn.preprocessing import StandardScaler\n\n# for geolocation assistance\nimport geocoder\n\n# for requesting\nimport requests\n\n# all the viz\nimport folium\nimport matplotlib.pyplot as plt\nimport seaborn as sns\n\n# for the hybrid recommender system\nfrom lightfm import LightFM\n\n# downloading assistance\nimport wget\n\n%matplotlib inline"
        }, 
        {
            "execution_count": 32, 
            "cell_type": "code", 
            "metadata": {}, 
            "outputs": [], 
            "source": "# The code was removed by Watson Studio for sharing."
        }, 
        {
            "execution_count": 33, 
            "cell_type": "code", 
            "metadata": {
                "scrolled": true
            }, 
            "outputs": [
                {
                    "execution_count": 33, 
                    "metadata": {}, 
                    "data": {
                        "text/html": "<div>\n<style scoped>\n    .dataframe tbody tr th:only-of-type {\n        vertical-align: middle;\n    }\n\n    .dataframe tbody tr th {\n        vertical-align: top;\n    }\n\n    .dataframe thead th {\n        text-align: right;\n    }\n</style>\n<table border=\"1\" class=\"dataframe\">\n  <thead>\n    <tr style=\"text-align: right;\">\n      <th></th>\n      <th>id</th>\n    </tr>\n    <tr>\n      <th>name</th>\n      <th></th>\n    </tr>\n  </thead>\n  <tbody>\n    <tr>\n      <th>Food</th>\n      <td>4d4b7105d754a06374d81259</td>\n    </tr>\n    <tr>\n      <th>Afghan Restaurant</th>\n      <td>503288ae91d4c4b30a586d67</td>\n    </tr>\n    <tr>\n      <th>African Restaurant</th>\n      <td>4bf58dd8d48988d1c8941735</td>\n    </tr>\n    <tr>\n      <th>American Restaurant</th>\n      <td>4bf58dd8d48988d14e941735</td>\n    </tr>\n    <tr>\n      <th>Asian Restaurant</th>\n      <td>4bf58dd8d48988d142941735</td>\n    </tr>\n    <tr>\n      <th>Australian Restaurant</th>\n      <td>4bf58dd8d48988d169941735</td>\n    </tr>\n    <tr>\n      <th>Austrian Restaurant</th>\n      <td>52e81612bcbc57f1066b7a01</td>\n    </tr>\n    <tr>\n      <th>BBQ Joint</th>\n      <td>4bf58dd8d48988d1df931735</td>\n    </tr>\n    <tr>\n      <th>Bagel Shop</th>\n      <td>4bf58dd8d48988d179941735</td>\n    </tr>\n    <tr>\n      <th>Bakery</th>\n      <td>4bf58dd8d48988d16a941735</td>\n    </tr>\n    <tr>\n      <th>Belgian Restaurant</th>\n      <td>52e81612bcbc57f1066b7a02</td>\n    </tr>\n    <tr>\n      <th>Bistro</th>\n      <td>52e81612bcbc57f1066b79f1</td>\n    </tr>\n    <tr>\n      <th>Breakfast Spot</th>\n      <td>4bf58dd8d48988d143941735</td>\n    </tr>\n    <tr>\n      <th>Bubble Tea Shop</th>\n      <td>52e81612bcbc57f1066b7a0c</td>\n    </tr>\n    <tr>\n      <th>Buffet</th>\n      <td>52e81612bcbc57f1066b79f4</td>\n    </tr>\n    <tr>\n      <th>Burger Joint</th>\n      <td>4bf58dd8d48988d16c941735</td>\n    </tr>\n    <tr>\n      <th>Cafeteria</th>\n      <td>4bf58dd8d48988d128941735</td>\n    </tr>\n    <tr>\n      <th>Caf\u00e9</th>\n      <td>4bf58dd8d48988d16d941735</td>\n    </tr>\n    <tr>\n      <th>Cajun / Creole Restaurant</th>\n      <td>4bf58dd8d48988d17a941735</td>\n    </tr>\n    <tr>\n      <th>Caribbean Restaurant</th>\n      <td>4bf58dd8d48988d144941735</td>\n    </tr>\n    <tr>\n      <th>Caucasian Restaurant</th>\n      <td>5293a7d53cf9994f4e043a45</td>\n    </tr>\n    <tr>\n      <th>Coffee Shop</th>\n      <td>4bf58dd8d48988d1e0931735</td>\n    </tr>\n    <tr>\n      <th>Comfort Food Restaurant</th>\n      <td>52e81612bcbc57f1066b7a00</td>\n    </tr>\n    <tr>\n      <th>Creperie</th>\n      <td>52e81612bcbc57f1066b79f2</td>\n    </tr>\n    <tr>\n      <th>Czech Restaurant</th>\n      <td>52f2ae52bcbc57f1066b8b81</td>\n    </tr>\n    <tr>\n      <th>Deli / Bodega</th>\n      <td>4bf58dd8d48988d146941735</td>\n    </tr>\n    <tr>\n      <th>Dessert Shop</th>\n      <td>4bf58dd8d48988d1d0941735</td>\n    </tr>\n    <tr>\n      <th>Diner</th>\n      <td>4bf58dd8d48988d147941735</td>\n    </tr>\n    <tr>\n      <th>Donut Shop</th>\n      <td>4bf58dd8d48988d148941735</td>\n    </tr>\n    <tr>\n      <th>Dumpling Restaurant</th>\n      <td>4bf58dd8d48988d108941735</td>\n    </tr>\n    <tr>\n      <th>...</th>\n      <td>...</td>\n    </tr>\n    <tr>\n      <th>Modern European Restaurant</th>\n      <td>52e81612bcbc57f1066b79f9</td>\n    </tr>\n    <tr>\n      <th>Molecular Gastronomy Restaurant</th>\n      <td>4bf58dd8d48988d1c2941735</td>\n    </tr>\n    <tr>\n      <th>Pakistani Restaurant</th>\n      <td>52e81612bcbc57f1066b79f8</td>\n    </tr>\n    <tr>\n      <th>Pet Caf\u00e9</th>\n      <td>56aa371be4b08b9a8d573508</td>\n    </tr>\n    <tr>\n      <th>Pizza Place</th>\n      <td>4bf58dd8d48988d1ca941735</td>\n    </tr>\n    <tr>\n      <th>Polish Restaurant</th>\n      <td>52e81612bcbc57f1066b7a04</td>\n    </tr>\n    <tr>\n      <th>Portuguese Restaurant</th>\n      <td>4def73e84765ae376e57713a</td>\n    </tr>\n    <tr>\n      <th>Poutine Place</th>\n      <td>56aa371be4b08b9a8d5734c7</td>\n    </tr>\n    <tr>\n      <th>Restaurant</th>\n      <td>4bf58dd8d48988d1c4941735</td>\n    </tr>\n    <tr>\n      <th>Russian Restaurant</th>\n      <td>5293a7563cf9994f4e043a44</td>\n    </tr>\n    <tr>\n      <th>Salad Place</th>\n      <td>4bf58dd8d48988d1bd941735</td>\n    </tr>\n    <tr>\n      <th>Sandwich Place</th>\n      <td>4bf58dd8d48988d1c5941735</td>\n    </tr>\n    <tr>\n      <th>Scandinavian Restaurant</th>\n      <td>4bf58dd8d48988d1c6941735</td>\n    </tr>\n    <tr>\n      <th>Scottish Restaurant</th>\n      <td>5744ccdde4b0c0459246b4a3</td>\n    </tr>\n    <tr>\n      <th>Seafood Restaurant</th>\n      <td>4bf58dd8d48988d1ce941735</td>\n    </tr>\n    <tr>\n      <th>Slovak Restaurant</th>\n      <td>56aa371be4b08b9a8d57355a</td>\n    </tr>\n    <tr>\n      <th>Snack Place</th>\n      <td>4bf58dd8d48988d1c7941735</td>\n    </tr>\n    <tr>\n      <th>Soup Place</th>\n      <td>4bf58dd8d48988d1dd931735</td>\n    </tr>\n    <tr>\n      <th>Southern / Soul Food Restaurant</th>\n      <td>4bf58dd8d48988d14f941735</td>\n    </tr>\n    <tr>\n      <th>Spanish Restaurant</th>\n      <td>4bf58dd8d48988d150941735</td>\n    </tr>\n    <tr>\n      <th>Sri Lankan Restaurant</th>\n      <td>5413605de4b0ae91d18581a9</td>\n    </tr>\n    <tr>\n      <th>Steakhouse</th>\n      <td>4bf58dd8d48988d1cc941735</td>\n    </tr>\n    <tr>\n      <th>Swiss Restaurant</th>\n      <td>4bf58dd8d48988d158941735</td>\n    </tr>\n    <tr>\n      <th>Tea Room</th>\n      <td>4bf58dd8d48988d1dc931735</td>\n    </tr>\n    <tr>\n      <th>Theme Restaurant</th>\n      <td>56aa371be4b08b9a8d573538</td>\n    </tr>\n    <tr>\n      <th>Truck Stop</th>\n      <td>57558b36e4b065ecebd306dd</td>\n    </tr>\n    <tr>\n      <th>Turkish Restaurant</th>\n      <td>4f04af1f2fb6e1c99f3db0bb</td>\n    </tr>\n    <tr>\n      <th>Ukrainian Restaurant</th>\n      <td>52e928d0bcbc57f1066b7e96</td>\n    </tr>\n    <tr>\n      <th>Vegetarian / Vegan Restaurant</th>\n      <td>4bf58dd8d48988d1d3941735</td>\n    </tr>\n    <tr>\n      <th>Wings Joint</th>\n      <td>4bf58dd8d48988d14c941735</td>\n    </tr>\n  </tbody>\n</table>\n<p>92 rows \u00d7 1 columns</p>\n</div>", 
                        "text/plain": "                                                       id\nname                                                     \nFood                             4d4b7105d754a06374d81259\nAfghan Restaurant                503288ae91d4c4b30a586d67\nAfrican Restaurant               4bf58dd8d48988d1c8941735\nAmerican Restaurant              4bf58dd8d48988d14e941735\nAsian Restaurant                 4bf58dd8d48988d142941735\nAustralian Restaurant            4bf58dd8d48988d169941735\nAustrian Restaurant              52e81612bcbc57f1066b7a01\nBBQ Joint                        4bf58dd8d48988d1df931735\nBagel Shop                       4bf58dd8d48988d179941735\nBakery                           4bf58dd8d48988d16a941735\nBelgian Restaurant               52e81612bcbc57f1066b7a02\nBistro                           52e81612bcbc57f1066b79f1\nBreakfast Spot                   4bf58dd8d48988d143941735\nBubble Tea Shop                  52e81612bcbc57f1066b7a0c\nBuffet                           52e81612bcbc57f1066b79f4\nBurger Joint                     4bf58dd8d48988d16c941735\nCafeteria                        4bf58dd8d48988d128941735\nCaf\u00e9                             4bf58dd8d48988d16d941735\nCajun / Creole Restaurant        4bf58dd8d48988d17a941735\nCaribbean Restaurant             4bf58dd8d48988d144941735\nCaucasian Restaurant             5293a7d53cf9994f4e043a45\nCoffee Shop                      4bf58dd8d48988d1e0931735\nComfort Food Restaurant          52e81612bcbc57f1066b7a00\nCreperie                         52e81612bcbc57f1066b79f2\nCzech Restaurant                 52f2ae52bcbc57f1066b8b81\nDeli / Bodega                    4bf58dd8d48988d146941735\nDessert Shop                     4bf58dd8d48988d1d0941735\nDiner                            4bf58dd8d48988d147941735\nDonut Shop                       4bf58dd8d48988d148941735\nDumpling Restaurant              4bf58dd8d48988d108941735\n...                                                   ...\nModern European Restaurant       52e81612bcbc57f1066b79f9\nMolecular Gastronomy Restaurant  4bf58dd8d48988d1c2941735\nPakistani Restaurant             52e81612bcbc57f1066b79f8\nPet Caf\u00e9                         56aa371be4b08b9a8d573508\nPizza Place                      4bf58dd8d48988d1ca941735\nPolish Restaurant                52e81612bcbc57f1066b7a04\nPortuguese Restaurant            4def73e84765ae376e57713a\nPoutine Place                    56aa371be4b08b9a8d5734c7\nRestaurant                       4bf58dd8d48988d1c4941735\nRussian Restaurant               5293a7563cf9994f4e043a44\nSalad Place                      4bf58dd8d48988d1bd941735\nSandwich Place                   4bf58dd8d48988d1c5941735\nScandinavian Restaurant          4bf58dd8d48988d1c6941735\nScottish Restaurant              5744ccdde4b0c0459246b4a3\nSeafood Restaurant               4bf58dd8d48988d1ce941735\nSlovak Restaurant                56aa371be4b08b9a8d57355a\nSnack Place                      4bf58dd8d48988d1c7941735\nSoup Place                       4bf58dd8d48988d1dd931735\nSouthern / Soul Food Restaurant  4bf58dd8d48988d14f941735\nSpanish Restaurant               4bf58dd8d48988d150941735\nSri Lankan Restaurant            5413605de4b0ae91d18581a9\nSteakhouse                       4bf58dd8d48988d1cc941735\nSwiss Restaurant                 4bf58dd8d48988d158941735\nTea Room                         4bf58dd8d48988d1dc931735\nTheme Restaurant                 56aa371be4b08b9a8d573538\nTruck Stop                       57558b36e4b065ecebd306dd\nTurkish Restaurant               4f04af1f2fb6e1c99f3db0bb\nUkrainian Restaurant             52e928d0bcbc57f1066b7e96\nVegetarian / Vegan Restaurant    4bf58dd8d48988d1d3941735\nWings Joint                      4bf58dd8d48988d14c941735\n\n[92 rows x 1 columns]"
                    }, 
                    "output_type": "execute_result"
                }
            ], 
            "source": "# Creating the url for the categories API call\ncategory_url = f'https://api.foursquare.com/v2/venues/categories?client_id={CLIENT_ID}&client_secret={CLIENT_SECRET}&v={VERSION}'\n\n# Creating the nub of the Food category dataframe with the parent cat name and id\njson_response = requests.get(category_url).json()\nfood_category = json_response['response']['categories'][3]\nfood_id_dataframe = json_normalize(food_category)\nfood_id_dataframe = food_id_dataframe[['id', 'name']]\n\n# Filling out the rest of the Food category dataframe with all the children and their respective name and ids\nfood_categories = food_category['categories']\nfor i, cat in enumerate(food_categories, 1):\n    food_id_dataframe.loc[i] = [cat['id'], cat['name']]\n\nfood_id_dataframe.set_index('name', inplace=True)\n\n# Here is the completed food_id_dataframe\nfood_id_dataframe"
        }, 
        {
            "execution_count": 37, 
            "cell_type": "code", 
            "metadata": {}, 
            "outputs": [], 
            "source": "# ! pip install openpyxl # You may need to install this in your environment if it's not already included in your Anaconda distro\n\n# Now to construct the user_feature matrix\nuser_category_df = food_id_dataframe.T\nuser_category_df.drop('id', axis=0, inplace=True)\nuser_category_df\n\n# I need my friends and colleagues to add their user preferences for each restaurant category to the dataframe, so in order to collect their inputs I need an .xlsx version of the user_feature dataframe\nuser_category_df.to_excel('request_inputs.xlsx')"
        }, 
        {
            "execution_count": 39, 
            "cell_type": "code", 
            "metadata": {}, 
            "outputs": [], 
            "source": "# Though the magic of time, my friends and colleagues have input their preferences for each cuisine.  I'll add them now.\n# I gave my friends and colleauges instructions to fill out the user_category matrix with a rank of 1 - 5 (1 being lowest and 5 being highest).\n# If my friend didn't have a preference or experience with a particular cuisine, I instructed them the leave the field blank.  The recommender system will take care of that."
        }, 
        {
            "source": "## Section 3) Methodology \ud83d\udd2c", 
            "cell_type": "markdown", 
            "metadata": {}
        }, 
        {
            "source": "### I will be utilizing the LightFM module to help fit the utilization matrix into a hybrid recommender system.  This will lay the foundation for introducing new users and new categories into the lunchtime ecosystem for the purposes of generating a predicted recommendation based on the profile of the exisiting users.  I will use stochastic gradient descent to help converge the weighted approximate-ranke pairwise loss function.  Additionally, I'll tune my hyperparameters utilizing the RandomizedSearchCV to help select the optimal parameters for the LightFM model. ", 
            "cell_type": "markdown", 
            "metadata": {}
        }, 
        {
            "source": "## Section 4) Results \ud83d\udcca", 
            "cell_type": "markdown", 
            "metadata": {}
        }, 
        {
            "source": "## Section 5) Observations \ud83d\udca1", 
            "cell_type": "markdown", 
            "metadata": {}
        }, 
        {
            "source": "## Section 6) Conclusions \u2728", 
            "cell_type": "markdown", 
            "metadata": {}
        }, 
        {
            "execution_count": null, 
            "cell_type": "code", 
            "metadata": {}, 
            "outputs": [], 
            "source": ""
        }
    ], 
    "metadata": {
        "kernelspec": {
            "display_name": "Python 3.6", 
            "name": "python3", 
            "language": "python"
        }, 
        "language_info": {
            "mimetype": "text/x-python", 
            "nbconvert_exporter": "python", 
            "version": "3.6.8", 
            "name": "python", 
            "file_extension": ".py", 
            "pygments_lexer": "ipython3", 
            "codemirror_mode": {
                "version": 3, 
                "name": "ipython"
            }
        }
    }, 
    "nbformat": 4
}