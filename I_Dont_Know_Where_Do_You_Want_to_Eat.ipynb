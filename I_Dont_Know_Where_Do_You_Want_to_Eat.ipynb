{
    "nbformat_minor": 1, 
    "cells": [
        {
            "source": "<h1 align='center'>I Don't Know - Where Do You Want to Eat?</h1>", 
            "cell_type": "markdown", 
            "metadata": {}
        }, 
        {
            "source": "<h1 align='center'>\ud83c\udf7d\ufe0f\ud83e\udd37\u200d\u2640\ufe0f\ud83e\udd37\u200d\u2640\ufe0f\ud83e\udd37\u200d\u2640\ufe0f\ud83e\udd62</h1>", 
            "cell_type": "markdown", 
            "metadata": {}
        }, 
        {
            "source": "## Section 1) Introduction \ud83d\udcd7", 
            "cell_type": "markdown", 
            "metadata": {}
        }, 
        {
            "source": "### It's a tough day at the office, and lunch time is here.  Have you ever had the following exchange with your co-workers and/ or friends?\n\n#### \ud83e\udd14: Where do you want to eat?\n#### \ud83e\udd28: I don't know.  Where do you want to eat?\n#### \ud83d\ude44: I don't know.  Where do you want to eat?\n\n### And on and on and on \ud83e\udd2f.  Before you know it, lunch time is over, and it's time to get back to the gridstone.  You've spent most (if not all) of your lunch time simply trying to figure out where to eat.", 
            "cell_type": "markdown", 
            "metadata": {}
        }, 
        {
            "source": "#### We live in a world where we are faced with unprecidented choice in our options for entertainment, food, and habitation.  Being spolied for choice is a double-edged sword though.  In the face of so many options, people are often not happy with the choices that they make experiencing either buyer's remorse (fear of missing out aka FOMO) or being completely overwhelmed leading to analysis paralysis (AP).  My project (I Don't Know - Where Do You Want to Eat) aims to help lunch buddies solve the paradox of choice by implmeneting a hybrid recommender system (both content and collaborative filtering) to help find restaurants that meet the group's dining preferences and offering them 3 options that are close to their central location (the lunch buddies don't have to be at the same location).  The locations of the participants will be used to create a centroid (central location) between them that will be used in conjunction with queries the FourSquare API to return candidate restaurants fitting the top criteria of the diners.  I will then use the matrix factorization techique to create a sparse matrix that I will then feed to a LightFM model to fill in any blanks in the utilization matrix so that the top 3 recommendations can be returned and visualized.", 
            "cell_type": "markdown", 
            "metadata": {}
        }, 
        {
            "source": "## Section 2) Data \ud83d\udcbe", 
            "cell_type": "markdown", 
            "metadata": {}
        }, 
        {
            "source": "### I will be using the following data sources to solve this problem:\n#### - FourSquare API: To make calls to retrieve venues using the <a href='https://developer.foursquare.com/docs/api/venues/search'>`venues\\search`</a> and <a href='https://developer.foursquare.com/docs/api/venues/details'>`venues\\VENUEID`</a> endpoints.  This will be the basis for the item matrix that will help generate the utilization matrix as well as providing crucial information for the visualization of the final venue selections and their attributes (ratings, addresses, categories, etc.)\n#### - The FourSquare Categories:  I will webscrape the <a href='https://developer.foursquare.com/docs/resources/categories'>FourSquare venue categories</a> pertaining to food make sure I have the proper features available that will be recognized by the FourSquare API.  The users will also use this in order to construct corresponding profiles.\n#### - My dear friends and colleagues: My friends and colleauges have generously agreed to create user profiles along with their respective lunch time locations and dining preferences.  I will use this information along with the FourSquare Categories to create the user matrix.", 
            "cell_type": "markdown", 
            "metadata": {}
        }, 
        {
            "source": "## Section 3) Methodology \ud83d\udd2c", 
            "cell_type": "markdown", 
            "metadata": {}
        }, 
        {
            "source": "### I will be utilizing the LightFM module to help fit the utilization matrix into a hybrid recommender system.  This will lay the foundation for introducing new users and new categories into the lunchtime ecosystem for the purposes of generating a predicted recommendation based on the profile of the exisiting users.  I will use stochastic gradient descent to help converge the weighted approximate-ranke pairwise loss function.  Additionally, I'll tune my hyperparameters utilizing the RandomizedSearchCV to help select the optimal parameters for the LightFM model. ", 
            "cell_type": "markdown", 
            "metadata": {}
        }, 
        {
            "source": "## Section 4) Results \ud83d\udcca", 
            "cell_type": "markdown", 
            "metadata": {}
        }, 
        {
            "source": "## Section 5) Observations \ud83d\udca1", 
            "cell_type": "markdown", 
            "metadata": {}
        }, 
        {
            "source": "## Section 6) Conclusions \u2728", 
            "cell_type": "markdown", 
            "metadata": {}
        }, 
        {
            "execution_count": null, 
            "cell_type": "code", 
            "metadata": {}, 
            "outputs": [], 
            "source": ""
        }
    ], 
    "metadata": {
        "kernelspec": {
            "display_name": "Python 3.6", 
            "name": "python3", 
            "language": "python"
        }, 
        "language_info": {
            "mimetype": "text/x-python", 
            "nbconvert_exporter": "python", 
            "version": "3.6.8", 
            "name": "python", 
            "file_extension": ".py", 
            "pygments_lexer": "ipython3", 
            "codemirror_mode": {
                "version": 3, 
                "name": "ipython"
            }
        }
    }, 
    "nbformat": 4
}